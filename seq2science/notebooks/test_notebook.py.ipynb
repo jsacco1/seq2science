{
 "cells": [
  {
   "cell_type": "code",
   "execution_count": null,
   "metadata": {},
   "outputs": [],
   "source": [
    "import os\n",
    "import scvelo as scv"
   ]
  },
  {
   "cell_type": "code",
   "execution_count": null,
   "metadata": {},
   "outputs": [],
   "source": [
    "kb_res = snakemake.input.busroot\n",
    "for bus in os.listdir(kb_res):\n",
    "    adata_path = os.path.join(bus,\"counts_unfiltered/adata.h5ad\")\n",
    "    #adata = scv.read(str(adata_path))\n",
    "    file_name = os.path.basename(bus)+ \"_scvelo.h5ad\"\n",
    "    out_file = os.path.join(snakemake.params.result_dir,file_name)  \n",
    "    with open(out_file,'w') as outfile:\n",
    "        outfile.write(kb_res)"
   ]
  },
  {
   "cell_type": "code",
   "execution_count": null,
   "metadata": {},
   "outputs": [],
   "source": []
  },
  {
   "cell_type": "code",
   "execution_count": null,
   "metadata": {},
   "outputs": [],
   "source": []
  }
 ],
 "metadata": {
  "kernelspec": {
   "display_name": "Python 3",
   "language": "python",
   "name": "python3"
  },
  "language_info": {
   "codemirror_mode": {
    "name": "ipython",
    "version": 3
   },
   "file_extension": ".py",
   "mimetype": "text/x-python",
   "name": "python",
   "nbconvert_exporter": "python",
   "pygments_lexer": "ipython3",
   "version": "3.8.3"
  }
 },
 "nbformat": 4,
 "nbformat_minor": 4
}